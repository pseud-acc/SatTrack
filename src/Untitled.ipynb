{
 "cells": [
  {
   "cell_type": "code",
   "execution_count": 49,
   "id": "8db654bb",
   "metadata": {},
   "outputs": [],
   "source": [
    "import numpy as np\n",
    "from datetime import datetime\n",
    "from teme_to_geodetic import teme2geodetic_spherical\n",
    "from sgp4.api import jday"
   ]
  },
  {
   "cell_type": "code",
   "execution_count": 27,
   "id": "7b2c4ca1",
   "metadata": {},
   "outputs": [],
   "source": [
    "n = 10\n",
    "x = np.linspace(0,1,n)\n",
    "y = np.linspace(0,1,n)\n",
    "z = np.linspace(0,1,n)\n",
    "t = np.linspace(0,1,n)"
   ]
  },
  {
   "cell_type": "code",
   "execution_count": 14,
   "id": "2bd2ba8b",
   "metadata": {},
   "outputs": [
    {
     "name": "stdout",
     "output_type": "stream",
     "text": [
      "If t is a vector, must be the same shape as x,y,z\n"
     ]
    }
   ],
   "source": [
    "try:\n",
    "    x*t; y*t; z*t\n",
    "except ValueError: print(\"If t is a vector, must be the same shape as x,y,z\")"
   ]
  },
  {
   "cell_type": "code",
   "execution_count": 34,
   "id": "90bb8169",
   "metadata": {},
   "outputs": [],
   "source": [
    "t = np.array([datetime.utcnow() for i in range(0,n)])"
   ]
  },
  {
   "cell_type": "code",
   "execution_count": 50,
   "id": "ca27609e",
   "metadata": {},
   "outputs": [
    {
     "ename": "TypeError",
     "evalue": "unsupported operand type(s) for *: 'float' and 'datetime.datetime'",
     "output_type": "error",
     "traceback": [
      "\u001b[1;31m---------------------------------------------------------------------------\u001b[0m",
      "\u001b[1;31mTypeError\u001b[0m                                 Traceback (most recent call last)",
      "\u001b[1;32m~\\AppData\\Local\\Temp/ipykernel_24276/2212991739.py\u001b[0m in \u001b[0;36m<module>\u001b[1;34m\u001b[0m\n\u001b[1;32m----> 1\u001b[1;33m \u001b[0mteme2geodetic_spherical\u001b[0m\u001b[1;33m(\u001b[0m\u001b[0mx\u001b[0m\u001b[1;33m,\u001b[0m \u001b[0my\u001b[0m\u001b[1;33m,\u001b[0m \u001b[0mz\u001b[0m\u001b[1;33m,\u001b[0m \u001b[0mt\u001b[0m\u001b[1;33m,\u001b[0m \u001b[1;36m1\u001b[0m\u001b[1;33m)\u001b[0m\u001b[1;33m\u001b[0m\u001b[1;33m\u001b[0m\u001b[0m\n\u001b[0m",
      "\u001b[1;32m~\\Dropbox\\Career\\Data_Science_Projects\\Space Junk\\SatTrack\\src\\teme_to_geodetic.py\u001b[0m in \u001b[0;36mteme2geodetic_spherical\u001b[1;34m(x, y, z, t, re)\u001b[0m\n\u001b[0;32m     90\u001b[0m         \u001b[0mdt_array\u001b[0m \u001b[1;33m=\u001b[0m \u001b[0mnp\u001b[0m\u001b[1;33m.\u001b[0m\u001b[0marray\u001b[0m\u001b[1;33m(\u001b[0m\u001b[1;33m[\u001b[0m\u001b[1;33m(\u001b[0m\u001b[0mdt\u001b[0m\u001b[1;33m.\u001b[0m\u001b[0myear\u001b[0m\u001b[1;33m,\u001b[0m \u001b[0mdt\u001b[0m\u001b[1;33m.\u001b[0m\u001b[0mmonth\u001b[0m\u001b[1;33m,\u001b[0m \u001b[0mdt\u001b[0m\u001b[1;33m.\u001b[0m\u001b[0mday\u001b[0m\u001b[1;33m,\u001b[0m \u001b[0mdt\u001b[0m\u001b[1;33m.\u001b[0m\u001b[0mhour\u001b[0m\u001b[1;33m,\u001b[0m \u001b[0mdt\u001b[0m\u001b[1;33m.\u001b[0m\u001b[0mminute\u001b[0m\u001b[1;33m,\u001b[0m \u001b[0mdt\u001b[0m\u001b[1;33m.\u001b[0m\u001b[0msecond\u001b[0m\u001b[1;33m)\u001b[0m \u001b[1;32mfor\u001b[0m \u001b[0mdt\u001b[0m \u001b[1;32min\u001b[0m \u001b[0mt\u001b[0m\u001b[1;33m]\u001b[0m\u001b[1;33m)\u001b[0m\u001b[1;33m\u001b[0m\u001b[1;33m\u001b[0m\u001b[0m\n\u001b[0;32m     91\u001b[0m         jd, fr = jday(dt_array[:,0], dt_array[:,1], dt_array[:,2], \n\u001b[1;32m---> 92\u001b[1;33m                       dt_array[:,3], dt_array[:,4], dt_array[:,5])\n\u001b[0m\u001b[0;32m     93\u001b[0m     \u001b[1;32melse\u001b[0m\u001b[1;33m:\u001b[0m\u001b[1;33m\u001b[0m\u001b[1;33m\u001b[0m\u001b[0m\n\u001b[0;32m     94\u001b[0m         \u001b[0mjd\u001b[0m\u001b[1;33m,\u001b[0m \u001b[0mfr\u001b[0m \u001b[1;33m=\u001b[0m \u001b[0mjday\u001b[0m\u001b[1;33m(\u001b[0m\u001b[0mt\u001b[0m\u001b[1;33m.\u001b[0m\u001b[0myear\u001b[0m\u001b[1;33m,\u001b[0m \u001b[0mt\u001b[0m\u001b[1;33m.\u001b[0m\u001b[0mmonth\u001b[0m\u001b[1;33m,\u001b[0m \u001b[0mt\u001b[0m\u001b[1;33m.\u001b[0m\u001b[0mday\u001b[0m\u001b[1;33m,\u001b[0m \u001b[0mt\u001b[0m\u001b[1;33m.\u001b[0m\u001b[0mhour\u001b[0m\u001b[1;33m,\u001b[0m \u001b[0mt\u001b[0m\u001b[1;33m.\u001b[0m\u001b[0mminute\u001b[0m\u001b[1;33m,\u001b[0m \u001b[0mt\u001b[0m\u001b[1;33m.\u001b[0m\u001b[0msecond\u001b[0m\u001b[1;33m)\u001b[0m\u001b[1;33m\u001b[0m\u001b[1;33m\u001b[0m\u001b[0m\n",
      "\u001b[1;31mTypeError\u001b[0m: unsupported operand type(s) for *: 'float' and 'datetime.datetime'"
     ]
    }
   ],
   "source": [
    "teme2geodetic_spherical(x, y, z, t, 1)"
   ]
  },
  {
   "cell_type": "code",
   "execution_count": 41,
   "id": "36317259",
   "metadata": {},
   "outputs": [],
   "source": [
    "dt_array = np.array([(dt.year, dt.month, dt.day, dt.hour, dt.minute, dt.second) for dt in t])"
   ]
  },
  {
   "cell_type": "code",
   "execution_count": 42,
   "id": "f1035061",
   "metadata": {},
   "outputs": [
    {
     "data": {
      "text/plain": [
       "(array([2459695.5, 2459695.5, 2459695.5, 2459695.5, 2459695.5, 2459695.5,\n",
       "        2459695.5, 2459695.5, 2459695.5, 2459695.5]),\n",
       " array([0.72667824, 0.72667824, 0.72667824, 0.72667824, 0.72667824,\n",
       "        0.72667824, 0.72667824, 0.72667824, 0.72667824, 0.72667824]))"
      ]
     },
     "execution_count": 42,
     "metadata": {},
     "output_type": "execute_result"
    }
   ],
   "source": [
    "jday(dt_array[:,0], dt_array[:,1], dt_array[:,2], \n",
    "                      dt_array[:,3], dt_array[:,4], dt_array[:,5])"
   ]
  },
  {
   "cell_type": "code",
   "execution_count": 46,
   "id": "18e87102",
   "metadata": {},
   "outputs": [],
   "source": [
    "if isinstance(t, (np.ndarray,list)):\n",
    "    if len(x) != len(t) or len(x) != len(t) or len(x) != len(t):\n",
    "        print(\"If t is a vector, must be the same shape as x,y,z\")\n",
    "    dt_array = np.array([(dt.year, dt.month, dt.day, dt.hour, dt.minute, dt.second) for dt in t])\n",
    "    jd, fr = jday(dt_array[:,0], dt_array[:,1], dt_array[:,2], \n",
    "                  dt_array[:,3], dt_array[:,4], dt_array[:,5])"
   ]
  }
 ],
 "metadata": {
  "kernelspec": {
   "display_name": "Python 3 (ipykernel)",
   "language": "python",
   "name": "python3"
  },
  "language_info": {
   "codemirror_mode": {
    "name": "ipython",
    "version": 3
   },
   "file_extension": ".py",
   "mimetype": "text/x-python",
   "name": "python",
   "nbconvert_exporter": "python",
   "pygments_lexer": "ipython3",
   "version": "3.9.7"
  }
 },
 "nbformat": 4,
 "nbformat_minor": 5
}
